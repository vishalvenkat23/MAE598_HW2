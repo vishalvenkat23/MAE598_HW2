{
 "cells": [
  {
   "cell_type": "markdown",
   "id": "02e3a418",
   "metadata": {},
   "source": [
    "Problem 1 ¶\n",
    "\n",
    "Show that the stationary point (zero gradient) of the function\n",
    "\n",
    "𝑓=2𝑥21−4𝑥1𝑥2+1.5𝑥22+𝑥2\n",
    "\n",
    "is a saddle (with indefinite Hessian). Find the directions of downslopes away from the saddle. \n",
    "Hint: Use Taylor's expansion at the saddle point. Find directions that reduce 𝑓.\n"
   ]
  },
  {
   "cell_type": "code",
   "execution_count": null,
   "id": "16905562",
   "metadata": {},
   "outputs": [],
   "source": []
  }
 ],
 "metadata": {
  "kernelspec": {
   "display_name": "Python 3",
   "language": "python",
   "name": "python3"
  },
  "language_info": {
   "codemirror_mode": {
    "name": "ipython",
    "version": 3
   },
   "file_extension": ".py",
   "mimetype": "text/x-python",
   "name": "python",
   "nbconvert_exporter": "python",
   "pygments_lexer": "ipython3",
   "version": "3.8.8"
  }
 },
 "nbformat": 4,
 "nbformat_minor": 5
}
