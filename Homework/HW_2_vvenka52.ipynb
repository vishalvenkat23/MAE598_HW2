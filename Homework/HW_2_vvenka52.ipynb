{
 "cells": [
  {
   "cell_type": "markdown",
   "id": "1d83d4e4",
   "metadata": {},
   "source": [
    "Problem 1 ¶\n",
    "\n",
    "Show that the stationary point (zero gradient) of the function\n",
    "\n",
    "𝑓=2𝑥21−4𝑥1𝑥2+1.5𝑥22+𝑥2\n",
    "\n",
    "is a saddle (with indefinite Hessian). Find the directions of downslopes away from the saddle. \n",
    "Hint: Use Taylor's expansion at the saddle point. Find directions that reduce 𝑓.\n"
   ]
  },
  {
   "cell_type": "markdown",
   "id": "398047d4",
   "metadata": {},
   "source": [
    "Image insert"
   ]
  },
  {
   "cell_type": "markdown",
   "id": "a1e04ac8",
   "metadata": {},
   "source": [
    "### Problem 2 (50 points) \n",
    "\n",
    "* (10 points) Find the point in the plane $x_1+2x_2+3x_3=1$ in $\\mathbb{R}^3$ that is nearest to the point $(-1,0,1)^T$. Is this a convex problem? Hint: Convert the problem into an unconstrained problem using $x_1+2x_2+3x_3=1$.\n"
   ]
  },
  {
   "cell_type": "markdown",
   "id": "f5c467d8",
   "metadata": {},
   "source": [
    "Image Insert"
   ]
  },
  {
   "cell_type": "code",
   "execution_count": 4,
   "id": "b43063da",
   "metadata": {},
   "outputs": [
    {
     "data": {
      "text/plain": [
       "     fun: 0.07142857142857141\n",
       "     jac: array([-0.14285713, -0.28571427, -0.42857141])\n",
       " message: 'Optimization terminated successfully'\n",
       "    nfev: 13\n",
       "     nit: 3\n",
       "    njev: 3\n",
       "  status: 0\n",
       " success: True\n",
       "       x: array([-1.07142857, -0.14285714,  0.78571429])"
      ]
     },
     "execution_count": 4,
     "metadata": {},
     "output_type": "execute_result"
    }
   ],
   "source": [
    "# code for 2a\n",
    "from scipy.optimize import minimize\n",
    "fun = lambda x: (x[0]+1)**2 + (x[1])**2 + (x[2] - 1)**2\n",
    "cons = ({'type':'eq', 'fun':lambda x: x[0]+2*x[1]+3*x[2]-1})\n",
    "# bnds = ((-1,1),(-1,1),(-1,1))\n",
    "# res = minimize(fun,(-1,0,1),method='SLSQP',bounds=bnds, constraints = cons)\n",
    "res = minimize(fun,(-1,0,1),method='SLSQP', constraints = cons)\n",
    "res"
   ]
  },
  {
   "cell_type": "markdown",
   "id": "9b8080af",
   "metadata": {},
   "source": []
  }
 ],
 "metadata": {
  "kernelspec": {
   "display_name": "Python 3",
   "language": "python",
   "name": "python3"
  },
  "language_info": {
   "codemirror_mode": {
    "name": "ipython",
    "version": 3
   },
   "file_extension": ".py",
   "mimetype": "text/x-python",
   "name": "python",
   "nbconvert_exporter": "python",
   "pygments_lexer": "ipython3",
   "version": "3.8.8"
  }
 },
 "nbformat": 4,
 "nbformat_minor": 5
}
